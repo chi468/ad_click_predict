{
  "nbformat": 4,
  "nbformat_minor": 0,
  "metadata": {
    "colab": {
      "name": "kakao_ad_click_predict",
      "provenance": [],
      "collapsed_sections": [],
      "include_colab_link": true
    },
    "kernelspec": {
      "name": "python3",
      "display_name": "Python 3"
    },
    "widgets": {
      "application/vnd.jupyter.widget-state+json": {
        "fbc05cdbb4b142dba9f3e5d1518434bd": {
          "model_module": "@jupyter-widgets/controls",
          "model_name": "HBoxModel",
          "state": {
            "_view_name": "HBoxView",
            "_dom_classes": [],
            "_model_name": "HBoxModel",
            "_view_module": "@jupyter-widgets/controls",
            "_model_module_version": "1.5.0",
            "_view_count": null,
            "_view_module_version": "1.5.0",
            "box_style": "",
            "layout": "IPY_MODEL_843214fd6d72455fad8bed415a0450ba",
            "_model_module": "@jupyter-widgets/controls",
            "children": [
              "IPY_MODEL_82fb4bbcd07c40a38c4f4e00edfd67dc",
              "IPY_MODEL_9cceca4d54a0463084de2b4ecebded7f"
            ]
          }
        },
        "843214fd6d72455fad8bed415a0450ba": {
          "model_module": "@jupyter-widgets/base",
          "model_name": "LayoutModel",
          "state": {
            "_view_name": "LayoutView",
            "grid_template_rows": null,
            "right": null,
            "justify_content": null,
            "_view_module": "@jupyter-widgets/base",
            "overflow": null,
            "_model_module_version": "1.2.0",
            "_view_count": null,
            "flex_flow": null,
            "width": null,
            "min_width": null,
            "border": null,
            "align_items": null,
            "bottom": null,
            "_model_module": "@jupyter-widgets/base",
            "top": null,
            "grid_column": null,
            "overflow_y": null,
            "overflow_x": null,
            "grid_auto_flow": null,
            "grid_area": null,
            "grid_template_columns": null,
            "flex": null,
            "_model_name": "LayoutModel",
            "justify_items": null,
            "grid_row": null,
            "max_height": null,
            "align_content": null,
            "visibility": null,
            "align_self": null,
            "height": null,
            "min_height": null,
            "padding": null,
            "grid_auto_rows": null,
            "grid_gap": null,
            "max_width": null,
            "order": null,
            "_view_module_version": "1.2.0",
            "grid_template_areas": null,
            "object_position": null,
            "object_fit": null,
            "grid_auto_columns": null,
            "margin": null,
            "display": null,
            "left": null
          }
        },
        "82fb4bbcd07c40a38c4f4e00edfd67dc": {
          "model_module": "@jupyter-widgets/controls",
          "model_name": "FloatProgressModel",
          "state": {
            "_view_name": "ProgressView",
            "style": "IPY_MODEL_ed2bde64945e42119e3a068e2b8323f0",
            "_dom_classes": [],
            "description": "100%",
            "_model_name": "FloatProgressModel",
            "bar_style": "success",
            "max": 4602,
            "_view_module": "@jupyter-widgets/controls",
            "_model_module_version": "1.5.0",
            "value": 4602,
            "_view_count": null,
            "_view_module_version": "1.5.0",
            "orientation": "horizontal",
            "min": 0,
            "description_tooltip": null,
            "_model_module": "@jupyter-widgets/controls",
            "layout": "IPY_MODEL_9448e7f225224eaf8bfa288201ec0e1f"
          }
        },
        "9cceca4d54a0463084de2b4ecebded7f": {
          "model_module": "@jupyter-widgets/controls",
          "model_name": "HTMLModel",
          "state": {
            "_view_name": "HTMLView",
            "style": "IPY_MODEL_95e3bc94c88746ee83f058d3762ab569",
            "_dom_classes": [],
            "description": "",
            "_model_name": "HTMLModel",
            "placeholder": "​",
            "_view_module": "@jupyter-widgets/controls",
            "_model_module_version": "1.5.0",
            "value": " 4602/4602 [00:02&lt;00:00, 2144.16it/s]",
            "_view_count": null,
            "_view_module_version": "1.5.0",
            "description_tooltip": null,
            "_model_module": "@jupyter-widgets/controls",
            "layout": "IPY_MODEL_029e3bde5de44b019dd76787cce55a34"
          }
        },
        "ed2bde64945e42119e3a068e2b8323f0": {
          "model_module": "@jupyter-widgets/controls",
          "model_name": "ProgressStyleModel",
          "state": {
            "_view_name": "StyleView",
            "_model_name": "ProgressStyleModel",
            "description_width": "initial",
            "_view_module": "@jupyter-widgets/base",
            "_model_module_version": "1.5.0",
            "_view_count": null,
            "_view_module_version": "1.2.0",
            "bar_color": null,
            "_model_module": "@jupyter-widgets/controls"
          }
        },
        "9448e7f225224eaf8bfa288201ec0e1f": {
          "model_module": "@jupyter-widgets/base",
          "model_name": "LayoutModel",
          "state": {
            "_view_name": "LayoutView",
            "grid_template_rows": null,
            "right": null,
            "justify_content": null,
            "_view_module": "@jupyter-widgets/base",
            "overflow": null,
            "_model_module_version": "1.2.0",
            "_view_count": null,
            "flex_flow": null,
            "width": null,
            "min_width": null,
            "border": null,
            "align_items": null,
            "bottom": null,
            "_model_module": "@jupyter-widgets/base",
            "top": null,
            "grid_column": null,
            "overflow_y": null,
            "overflow_x": null,
            "grid_auto_flow": null,
            "grid_area": null,
            "grid_template_columns": null,
            "flex": null,
            "_model_name": "LayoutModel",
            "justify_items": null,
            "grid_row": null,
            "max_height": null,
            "align_content": null,
            "visibility": null,
            "align_self": null,
            "height": null,
            "min_height": null,
            "padding": null,
            "grid_auto_rows": null,
            "grid_gap": null,
            "max_width": null,
            "order": null,
            "_view_module_version": "1.2.0",
            "grid_template_areas": null,
            "object_position": null,
            "object_fit": null,
            "grid_auto_columns": null,
            "margin": null,
            "display": null,
            "left": null
          }
        },
        "95e3bc94c88746ee83f058d3762ab569": {
          "model_module": "@jupyter-widgets/controls",
          "model_name": "DescriptionStyleModel",
          "state": {
            "_view_name": "StyleView",
            "_model_name": "DescriptionStyleModel",
            "description_width": "",
            "_view_module": "@jupyter-widgets/base",
            "_model_module_version": "1.5.0",
            "_view_count": null,
            "_view_module_version": "1.2.0",
            "_model_module": "@jupyter-widgets/controls"
          }
        },
        "029e3bde5de44b019dd76787cce55a34": {
          "model_module": "@jupyter-widgets/base",
          "model_name": "LayoutModel",
          "state": {
            "_view_name": "LayoutView",
            "grid_template_rows": null,
            "right": null,
            "justify_content": null,
            "_view_module": "@jupyter-widgets/base",
            "overflow": null,
            "_model_module_version": "1.2.0",
            "_view_count": null,
            "flex_flow": null,
            "width": null,
            "min_width": null,
            "border": null,
            "align_items": null,
            "bottom": null,
            "_model_module": "@jupyter-widgets/base",
            "top": null,
            "grid_column": null,
            "overflow_y": null,
            "overflow_x": null,
            "grid_auto_flow": null,
            "grid_area": null,
            "grid_template_columns": null,
            "flex": null,
            "_model_name": "LayoutModel",
            "justify_items": null,
            "grid_row": null,
            "max_height": null,
            "align_content": null,
            "visibility": null,
            "align_self": null,
            "height": null,
            "min_height": null,
            "padding": null,
            "grid_auto_rows": null,
            "grid_gap": null,
            "max_width": null,
            "order": null,
            "_view_module_version": "1.2.0",
            "grid_template_areas": null,
            "object_position": null,
            "object_fit": null,
            "grid_auto_columns": null,
            "margin": null,
            "display": null,
            "left": null
          }
        },
        "25050772384f4bae8449f84d70c4be11": {
          "model_module": "@jupyter-widgets/controls",
          "model_name": "HBoxModel",
          "state": {
            "_view_name": "HBoxView",
            "_dom_classes": [],
            "_model_name": "HBoxModel",
            "_view_module": "@jupyter-widgets/controls",
            "_model_module_version": "1.5.0",
            "_view_count": null,
            "_view_module_version": "1.5.0",
            "box_style": "",
            "layout": "IPY_MODEL_2f4b232f0b984e698791f1e56844e184",
            "_model_module": "@jupyter-widgets/controls",
            "children": [
              "IPY_MODEL_cb51b4fba98b4341b5359e75aa46c1ef",
              "IPY_MODEL_7bc77da6d63e4f49b4b9bc56078c27f8"
            ]
          }
        },
        "2f4b232f0b984e698791f1e56844e184": {
          "model_module": "@jupyter-widgets/base",
          "model_name": "LayoutModel",
          "state": {
            "_view_name": "LayoutView",
            "grid_template_rows": null,
            "right": null,
            "justify_content": null,
            "_view_module": "@jupyter-widgets/base",
            "overflow": null,
            "_model_module_version": "1.2.0",
            "_view_count": null,
            "flex_flow": null,
            "width": null,
            "min_width": null,
            "border": null,
            "align_items": null,
            "bottom": null,
            "_model_module": "@jupyter-widgets/base",
            "top": null,
            "grid_column": null,
            "overflow_y": null,
            "overflow_x": null,
            "grid_auto_flow": null,
            "grid_area": null,
            "grid_template_columns": null,
            "flex": null,
            "_model_name": "LayoutModel",
            "justify_items": null,
            "grid_row": null,
            "max_height": null,
            "align_content": null,
            "visibility": null,
            "align_self": null,
            "height": null,
            "min_height": null,
            "padding": null,
            "grid_auto_rows": null,
            "grid_gap": null,
            "max_width": null,
            "order": null,
            "_view_module_version": "1.2.0",
            "grid_template_areas": null,
            "object_position": null,
            "object_fit": null,
            "grid_auto_columns": null,
            "margin": null,
            "display": null,
            "left": null
          }
        },
        "cb51b4fba98b4341b5359e75aa46c1ef": {
          "model_module": "@jupyter-widgets/controls",
          "model_name": "FloatProgressModel",
          "state": {
            "_view_name": "ProgressView",
            "style": "IPY_MODEL_f2ad264b88d14fff94d58153782c487d",
            "_dom_classes": [],
            "description": "100%",
            "_model_name": "FloatProgressModel",
            "bar_style": "success",
            "max": 288,
            "_view_module": "@jupyter-widgets/controls",
            "_model_module_version": "1.5.0",
            "value": 288,
            "_view_count": null,
            "_view_module_version": "1.5.0",
            "orientation": "horizontal",
            "min": 0,
            "description_tooltip": null,
            "_model_module": "@jupyter-widgets/controls",
            "layout": "IPY_MODEL_35e2b0a8df1e463c836cdb9652fcab45"
          }
        },
        "7bc77da6d63e4f49b4b9bc56078c27f8": {
          "model_module": "@jupyter-widgets/controls",
          "model_name": "HTMLModel",
          "state": {
            "_view_name": "HTMLView",
            "style": "IPY_MODEL_e28d1d40e82e4e779c0f3749c99ab0dd",
            "_dom_classes": [],
            "description": "",
            "_model_name": "HTMLModel",
            "placeholder": "​",
            "_view_module": "@jupyter-widgets/controls",
            "_model_module_version": "1.5.0",
            "value": " 288/288 [00:00&lt;00:00, 661.29it/s]",
            "_view_count": null,
            "_view_module_version": "1.5.0",
            "description_tooltip": null,
            "_model_module": "@jupyter-widgets/controls",
            "layout": "IPY_MODEL_9b5c16f4674c4f199412222817c79789"
          }
        },
        "f2ad264b88d14fff94d58153782c487d": {
          "model_module": "@jupyter-widgets/controls",
          "model_name": "ProgressStyleModel",
          "state": {
            "_view_name": "StyleView",
            "_model_name": "ProgressStyleModel",
            "description_width": "initial",
            "_view_module": "@jupyter-widgets/base",
            "_model_module_version": "1.5.0",
            "_view_count": null,
            "_view_module_version": "1.2.0",
            "bar_color": null,
            "_model_module": "@jupyter-widgets/controls"
          }
        },
        "35e2b0a8df1e463c836cdb9652fcab45": {
          "model_module": "@jupyter-widgets/base",
          "model_name": "LayoutModel",
          "state": {
            "_view_name": "LayoutView",
            "grid_template_rows": null,
            "right": null,
            "justify_content": null,
            "_view_module": "@jupyter-widgets/base",
            "overflow": null,
            "_model_module_version": "1.2.0",
            "_view_count": null,
            "flex_flow": null,
            "width": null,
            "min_width": null,
            "border": null,
            "align_items": null,
            "bottom": null,
            "_model_module": "@jupyter-widgets/base",
            "top": null,
            "grid_column": null,
            "overflow_y": null,
            "overflow_x": null,
            "grid_auto_flow": null,
            "grid_area": null,
            "grid_template_columns": null,
            "flex": null,
            "_model_name": "LayoutModel",
            "justify_items": null,
            "grid_row": null,
            "max_height": null,
            "align_content": null,
            "visibility": null,
            "align_self": null,
            "height": null,
            "min_height": null,
            "padding": null,
            "grid_auto_rows": null,
            "grid_gap": null,
            "max_width": null,
            "order": null,
            "_view_module_version": "1.2.0",
            "grid_template_areas": null,
            "object_position": null,
            "object_fit": null,
            "grid_auto_columns": null,
            "margin": null,
            "display": null,
            "left": null
          }
        },
        "e28d1d40e82e4e779c0f3749c99ab0dd": {
          "model_module": "@jupyter-widgets/controls",
          "model_name": "DescriptionStyleModel",
          "state": {
            "_view_name": "StyleView",
            "_model_name": "DescriptionStyleModel",
            "description_width": "",
            "_view_module": "@jupyter-widgets/base",
            "_model_module_version": "1.5.0",
            "_view_count": null,
            "_view_module_version": "1.2.0",
            "_model_module": "@jupyter-widgets/controls"
          }
        },
        "9b5c16f4674c4f199412222817c79789": {
          "model_module": "@jupyter-widgets/base",
          "model_name": "LayoutModel",
          "state": {
            "_view_name": "LayoutView",
            "grid_template_rows": null,
            "right": null,
            "justify_content": null,
            "_view_module": "@jupyter-widgets/base",
            "overflow": null,
            "_model_module_version": "1.2.0",
            "_view_count": null,
            "flex_flow": null,
            "width": null,
            "min_width": null,
            "border": null,
            "align_items": null,
            "bottom": null,
            "_model_module": "@jupyter-widgets/base",
            "top": null,
            "grid_column": null,
            "overflow_y": null,
            "overflow_x": null,
            "grid_auto_flow": null,
            "grid_area": null,
            "grid_template_columns": null,
            "flex": null,
            "_model_name": "LayoutModel",
            "justify_items": null,
            "grid_row": null,
            "max_height": null,
            "align_content": null,
            "visibility": null,
            "align_self": null,
            "height": null,
            "min_height": null,
            "padding": null,
            "grid_auto_rows": null,
            "grid_gap": null,
            "max_width": null,
            "order": null,
            "_view_module_version": "1.2.0",
            "grid_template_areas": null,
            "object_position": null,
            "object_fit": null,
            "grid_auto_columns": null,
            "margin": null,
            "display": null,
            "left": null
          }
        },
        "57b6a539c49b4519ad5fbc97336d5f61": {
          "model_module": "@jupyter-widgets/controls",
          "model_name": "HBoxModel",
          "state": {
            "_view_name": "HBoxView",
            "_dom_classes": [],
            "_model_name": "HBoxModel",
            "_view_module": "@jupyter-widgets/controls",
            "_model_module_version": "1.5.0",
            "_view_count": null,
            "_view_module_version": "1.5.0",
            "box_style": "",
            "layout": "IPY_MODEL_db435144f2a448a09da1d8c2cbfbd6e0",
            "_model_module": "@jupyter-widgets/controls",
            "children": [
              "IPY_MODEL_0a05739eea254f73bc5e54e17e4e8e27",
              "IPY_MODEL_1b8c0bba325540cb9b2823db229d4c4e"
            ]
          }
        },
        "db435144f2a448a09da1d8c2cbfbd6e0": {
          "model_module": "@jupyter-widgets/base",
          "model_name": "LayoutModel",
          "state": {
            "_view_name": "LayoutView",
            "grid_template_rows": null,
            "right": null,
            "justify_content": null,
            "_view_module": "@jupyter-widgets/base",
            "overflow": null,
            "_model_module_version": "1.2.0",
            "_view_count": null,
            "flex_flow": null,
            "width": null,
            "min_width": null,
            "border": null,
            "align_items": null,
            "bottom": null,
            "_model_module": "@jupyter-widgets/base",
            "top": null,
            "grid_column": null,
            "overflow_y": null,
            "overflow_x": null,
            "grid_auto_flow": null,
            "grid_area": null,
            "grid_template_columns": null,
            "flex": null,
            "_model_name": "LayoutModel",
            "justify_items": null,
            "grid_row": null,
            "max_height": null,
            "align_content": null,
            "visibility": null,
            "align_self": null,
            "height": null,
            "min_height": null,
            "padding": null,
            "grid_auto_rows": null,
            "grid_gap": null,
            "max_width": null,
            "order": null,
            "_view_module_version": "1.2.0",
            "grid_template_areas": null,
            "object_position": null,
            "object_fit": null,
            "grid_auto_columns": null,
            "margin": null,
            "display": null,
            "left": null
          }
        },
        "0a05739eea254f73bc5e54e17e4e8e27": {
          "model_module": "@jupyter-widgets/controls",
          "model_name": "FloatProgressModel",
          "state": {
            "_view_name": "ProgressView",
            "style": "IPY_MODEL_94594915864f407c918a657bbe99ac09",
            "_dom_classes": [],
            "description": "100%",
            "_model_name": "FloatProgressModel",
            "bar_style": "success",
            "max": 282,
            "_view_module": "@jupyter-widgets/controls",
            "_model_module_version": "1.5.0",
            "value": 282,
            "_view_count": null,
            "_view_module_version": "1.5.0",
            "orientation": "horizontal",
            "min": 0,
            "description_tooltip": null,
            "_model_module": "@jupyter-widgets/controls",
            "layout": "IPY_MODEL_05f9ea5dc04945b99e872a82143b485c"
          }
        },
        "1b8c0bba325540cb9b2823db229d4c4e": {
          "model_module": "@jupyter-widgets/controls",
          "model_name": "HTMLModel",
          "state": {
            "_view_name": "HTMLView",
            "style": "IPY_MODEL_7659334c3c8d4c05babb7423e1066b4f",
            "_dom_classes": [],
            "description": "",
            "_model_name": "HTMLModel",
            "placeholder": "​",
            "_view_module": "@jupyter-widgets/controls",
            "_model_module_version": "1.5.0",
            "value": " 282/282 [00:00&lt;00:00, 2188.02it/s]",
            "_view_count": null,
            "_view_module_version": "1.5.0",
            "description_tooltip": null,
            "_model_module": "@jupyter-widgets/controls",
            "layout": "IPY_MODEL_7ba19a6da573429ba2189109f9247ec6"
          }
        },
        "94594915864f407c918a657bbe99ac09": {
          "model_module": "@jupyter-widgets/controls",
          "model_name": "ProgressStyleModel",
          "state": {
            "_view_name": "StyleView",
            "_model_name": "ProgressStyleModel",
            "description_width": "initial",
            "_view_module": "@jupyter-widgets/base",
            "_model_module_version": "1.5.0",
            "_view_count": null,
            "_view_module_version": "1.2.0",
            "bar_color": null,
            "_model_module": "@jupyter-widgets/controls"
          }
        },
        "05f9ea5dc04945b99e872a82143b485c": {
          "model_module": "@jupyter-widgets/base",
          "model_name": "LayoutModel",
          "state": {
            "_view_name": "LayoutView",
            "grid_template_rows": null,
            "right": null,
            "justify_content": null,
            "_view_module": "@jupyter-widgets/base",
            "overflow": null,
            "_model_module_version": "1.2.0",
            "_view_count": null,
            "flex_flow": null,
            "width": null,
            "min_width": null,
            "border": null,
            "align_items": null,
            "bottom": null,
            "_model_module": "@jupyter-widgets/base",
            "top": null,
            "grid_column": null,
            "overflow_y": null,
            "overflow_x": null,
            "grid_auto_flow": null,
            "grid_area": null,
            "grid_template_columns": null,
            "flex": null,
            "_model_name": "LayoutModel",
            "justify_items": null,
            "grid_row": null,
            "max_height": null,
            "align_content": null,
            "visibility": null,
            "align_self": null,
            "height": null,
            "min_height": null,
            "padding": null,
            "grid_auto_rows": null,
            "grid_gap": null,
            "max_width": null,
            "order": null,
            "_view_module_version": "1.2.0",
            "grid_template_areas": null,
            "object_position": null,
            "object_fit": null,
            "grid_auto_columns": null,
            "margin": null,
            "display": null,
            "left": null
          }
        },
        "7659334c3c8d4c05babb7423e1066b4f": {
          "model_module": "@jupyter-widgets/controls",
          "model_name": "DescriptionStyleModel",
          "state": {
            "_view_name": "StyleView",
            "_model_name": "DescriptionStyleModel",
            "description_width": "",
            "_view_module": "@jupyter-widgets/base",
            "_model_module_version": "1.5.0",
            "_view_count": null,
            "_view_module_version": "1.2.0",
            "_model_module": "@jupyter-widgets/controls"
          }
        },
        "7ba19a6da573429ba2189109f9247ec6": {
          "model_module": "@jupyter-widgets/base",
          "model_name": "LayoutModel",
          "state": {
            "_view_name": "LayoutView",
            "grid_template_rows": null,
            "right": null,
            "justify_content": null,
            "_view_module": "@jupyter-widgets/base",
            "overflow": null,
            "_model_module_version": "1.2.0",
            "_view_count": null,
            "flex_flow": null,
            "width": null,
            "min_width": null,
            "border": null,
            "align_items": null,
            "bottom": null,
            "_model_module": "@jupyter-widgets/base",
            "top": null,
            "grid_column": null,
            "overflow_y": null,
            "overflow_x": null,
            "grid_auto_flow": null,
            "grid_area": null,
            "grid_template_columns": null,
            "flex": null,
            "_model_name": "LayoutModel",
            "justify_items": null,
            "grid_row": null,
            "max_height": null,
            "align_content": null,
            "visibility": null,
            "align_self": null,
            "height": null,
            "min_height": null,
            "padding": null,
            "grid_auto_rows": null,
            "grid_gap": null,
            "max_width": null,
            "order": null,
            "_view_module_version": "1.2.0",
            "grid_template_areas": null,
            "object_position": null,
            "object_fit": null,
            "grid_auto_columns": null,
            "margin": null,
            "display": null,
            "left": null
          }
        }
      }
    }
  },
  "cells": [
    {
      "cell_type": "markdown",
      "metadata": {
        "id": "view-in-github",
        "colab_type": "text"
      },
      "source": [
        "<a href=\"https://colab.research.google.com/github/chi468/ad_click_predict/blob/master/kakao_ad_click_predict.ipynb\" target=\"_parent\"><img src=\"https://colab.research.google.com/assets/colab-badge.svg\" alt=\"Open In Colab\"/></a>"
      ]
    },
    {
      "cell_type": "code",
      "metadata": {
        "id": "Zz3tYpgAQJtY",
        "colab_type": "code",
        "colab": {}
      },
      "source": [
        "#카카오 인터뷰 전 사전과제\n",
        "#3번문제 광고 클릭률 예측"
      ],
      "execution_count": 0,
      "outputs": []
    },
    {
      "cell_type": "code",
      "metadata": {
        "id": "Z4rhOeEwTS-5",
        "colab_type": "code",
        "colab": {}
      },
      "source": [
        "#캐글의 클릭률 예측 - 모바일 광고 클릭 여부 예측\n",
        "#위 대회의 데이터를 가져와서 현재 문제 상황에 맞게 수정하여 사용\n",
        "#출처 : https://www.kaggle.com/c/avazu-ctr-prediction/data?select=train.gz"
      ],
      "execution_count": 0,
      "outputs": []
    },
    {
      "cell_type": "code",
      "metadata": {
        "id": "2gD78PqcQtdI",
        "colab_type": "code",
        "colab": {}
      },
      "source": [
        "import pandas as pd\n",
        "import numpy as np\n",
        "import matplotlib.pyplot as plt\n"
      ],
      "execution_count": 0,
      "outputs": []
    },
    {
      "cell_type": "code",
      "metadata": {
        "id": "z5xtj7LQ1ya7",
        "colab_type": "code",
        "colab": {}
      },
      "source": [
        "  from google.colab import files\n",
        "#  files.upload()"
      ],
      "execution_count": 0,
      "outputs": []
    },
    {
      "cell_type": "code",
      "metadata": {
        "id": "Otg8pENu16Lc",
        "colab_type": "code",
        "colab": {
          "base_uri": "https://localhost:8080/",
          "height": 56
        },
        "outputId": "5894d94d-9424-479f-fb0c-267982ef2b96"
      },
      "source": [
        "#data set 생성\n",
        "#캐글의 데이터를 현재 문제 상황에 맞게 수정\n",
        "#위의 데이터는 6시간분의 데이터이므로 문제 상황처럼 30일간의 데이터로 변경\n",
        "\n",
        "#train = pd.read_csv('train_ad (1).csv')\n",
        "#set_hour = set(train['hour'])\n",
        "\n",
        "#10분단위로 데이터 구간 생성\n",
        "#하루는 24시간이므로 24*6 = 144 개의 구간\n",
        "_one_day = 144\n",
        "\n",
        "dayList = []\n",
        "timeList = []\n",
        "for day in range(1,33):\n",
        "  for hour in range(24):\n",
        "    for min in range(6):\n",
        "      #01일부터 33일까지의 데이터 생성\n",
        "      dayList.append(day)\n",
        "      timeList.append(hour*100 + min*10)\n",
        "\"\"\"\n",
        "stampList = []\n",
        "viewList = [0 for i in range(24*33*6)]\n",
        "clickList = [0 for i in range(24*33*6)]\n",
        "\n",
        "\n",
        "#광고 번호가 'a99f214a' 인 광고에 대해서만 진행\n",
        "#해당 광고의 시간대별 총 노출수에서 클릭수를 나누어 시간대별 클릭률을 계산\n",
        "\n",
        "for i in range(6):\n",
        "  index = 0\n",
        "  h = list(set_hour)[i]\n",
        "  for _, tmp in train[train['hour']==h][['ad_id','click']].iterrows():\n",
        "    timeIndex = index%(24*6*5) + i * (24*6*5)\n",
        "    stampList.append(timeList[timeIndex])\n",
        "    index+=1\n",
        "\n",
        "rateList = [float(clickList[i])/viewList[i]*100 for i in range(len(clickList))]\n",
        "\n",
        "#train['hour'] = stampList\n",
        "\"\"\""
      ],
      "execution_count": 7,
      "outputs": [
        {
          "output_type": "execute_result",
          "data": {
            "text/plain": [
              "\"\\nstampList = []\\nviewList = [0 for i in range(24*33*6)]\\nclickList = [0 for i in range(24*33*6)]\\n\\n\\n#광고 번호가 'a99f214a' 인 광고에 대해서만 진행\\n#해당 광고의 시간대별 총 노출수에서 클릭수를 나누어 시간대별 클릭률을 계산\\n\\nfor i in range(6):\\n  index = 0\\n  h = list(set_hour)[i]\\n  for _, tmp in train[train['hour']==h][['ad_id','click']].iterrows():\\n    timeIndex = index%(24*6*5) + i * (24*6*5)\\n    stampList.append(timeList[timeIndex])\\n    index+=1\\n\\nrateList = [float(clickList[i])/viewList[i]*100 for i in range(len(clickList))]\\n\\n#train['hour'] = stampList\\n\""
            ]
          },
          "metadata": {
            "tags": []
          },
          "execution_count": 7
        }
      ]
    },
    {
      "cell_type": "code",
      "metadata": {
        "id": "ewhI0JlTaBpO",
        "colab_type": "code",
        "colab": {}
      },
      "source": [
        "#'a99f214a'번 광고의 시간대별 클릭률 데이터 시각화\n",
        "df_clickRate = {'day':dayList, 'timestamp': timeList }\n",
        "\n",
        "df_clickRate = pd.DataFrame(df_clickRate)\n",
        "print(df_clickRate.tail(50))\n",
        "df_clickRate.head(100).plot(x='timestamp', y='rate')\n",
        "plt.title(\"rate_graph\")\n",
        "plt.xlabel(\"timestamp\",color='white')\n",
        "plt.ylabel(\"rate\",color='white')\n",
        "#plt.show()\n"
      ],
      "execution_count": 0,
      "outputs": []
    },
    {
      "cell_type": "code",
      "metadata": {
        "id": "qBzBUixWO1mR",
        "colab_type": "code",
        "colab": {
          "base_uri": "https://localhost:8080/",
          "height": 295
        },
        "outputId": "9cc5d920-d540-4b07-ced9-911b950843dd"
      },
      "source": [
        "#위의 데이터는 LSTM 모델로 Learning 진행에 부적합\n",
        "#합리적인 데이터 생성\n",
        "#치킨 광고라 가정\n",
        "#세부조건 세팅\n",
        "import math\n",
        "import random\n",
        "reasonable_rate = []\n",
        "dtsList = []\n",
        "for index,col in df_clickRate.iterrows():\n",
        "  day = col['day']\n",
        "  ts = col['timestamp']\n",
        "  hour = col['timestamp']/100\n",
        "  min = col['timestamp'] %100\n",
        "  new_rate = random.random() + 10\n",
        "  #식사시간 11~14시 / 18시~21시\n",
        "  if (ts >= 1100 and ts <= 1400) or (ts >= 1800 and ts <= 2100):\n",
        "    new_rate += (ts/100)*(ts/100) /60\n",
        "  #시간이 늦어질 수록 증가\n",
        "  new_rate += math.tanh(hour-14) * 2\n",
        "  #여름이 다가올수록 많이\n",
        "  new_rate += math.tanh(day-15)\n",
        "  #7일씩 주기성\n",
        "  new_rate += math.cos(np.pi * 2 / 7 * day)  \n",
        "  reasonable_rate.append(new_rate)\n",
        "  dayTime = day * 10000 + ts\n",
        "  dtsList.append(dayTime) \n",
        "df_clickRate['rate'] = reasonable_rate\n",
        "df_clickRate['dayTime'] = dtsList\n",
        "\n",
        "df_clickRate = pd.DataFrame(df_clickRate)\n",
        "df_clickRate.head(100).plot(x='dayTime', y='rate')\n",
        "plt.title(\"rate_graph\",color = 'white')\n",
        "plt.xlabel(\"timestamp\",color='white')\n",
        "plt.ylabel(\"rate\",color='white')\n",
        "plt.show()\n"
      ],
      "execution_count": 200,
      "outputs": [
        {
          "output_type": "display_data",
          "data": {
            "image/png": "[encoded data removed]",
            "text/plain": [
              "<Figure size 432x288 with 1 Axes>"
            ]
          },
          "metadata": {
            "tags": [],
            "needs_background": "light"
          }
        }
      ]
    },
    {
      "cell_type": "code",
      "metadata": {
        "id": "OJ1amtHD96e1",
        "colab_type": "code",
        "colab": {}
      },
      "source": [
        "#합리적인 데이터 생성 2\n",
        "#Transfer Learning을 위한 데이터\n",
        "#수영복 광고라 가정\n",
        "#세부조건 세팅\n",
        "import math\n",
        "import random\n",
        "reasonable_rate = []\n",
        "dtsList = []\n",
        "for index,col in df_clickRate.iterrows():\n",
        "  day = col['day']\n",
        "  ts = col['timestamp']\n",
        "  hour = col['timestamp']/100\n",
        "  min = col['timestamp'] %100\n",
        "  new_rate = random.random() + 10\n",
        "  #퇴근 후 시간대 클릭률 증가 18시~24시\n",
        "  if (ts >= 1800 and ts <= 2400):\n",
        "    new_rate += math.sqrt(ts/100)\n",
        "  #낮시간대에 증가\n",
        "  new_rate += -(hour-14)*(hour-14)/20 + 10\n",
        "  #여름이 다가올수록 많이\n",
        "  new_rate += 2*math.exp(day/10)\n",
        "  reasonable_rate.append(new_rate)\n",
        "  dayTime = day * 10000 + ts\n",
        "  dtsList.append(dayTime)\n",
        "df_clickRate['rate2'] = reasonable_rate\n",
        "\n"
      ],
      "execution_count": 0,
      "outputs": []
    },
    {
      "cell_type": "code",
      "metadata": {
        "id": "rIp9OlBxIe5Z",
        "colab_type": "code",
        "colab": {
          "base_uri": "https://localhost:8080/",
          "height": 279
        },
        "outputId": "b05ade2b-eddd-4393-ac3c-edf51e1aba81"
      },
      "source": [
        "#합리적인 데이터 생성 3\n",
        "#Transfer Learning을 위한 데이터\n",
        "#떡볶이 광고라 가정\n",
        "#세부조건 세팅\n",
        "import math\n",
        "import random\n",
        "\n",
        "\n",
        "dayList = []\n",
        "\n",
        "timeList = []\n",
        "for day in range(32,62):\n",
        "  for hour in range(24):\n",
        "    for min in range(6):\n",
        "      #32일부터 61일까지의 데이터 생성\n",
        "      dayList.append(day)\n",
        "      timeList.append(hour*100 + min*10)\n",
        "df_testClickRate = pd.DataFrame({'day':dayList,'timestamp':timeList})\n",
        "\n",
        "reasonable_rate = []\n",
        "dtsList = []\n",
        "for index,col in df_testClickRate.iterrows():\n",
        "  day = col['day']\n",
        "  ts = col['timestamp']\n",
        "  hour = col['timestamp']/100\n",
        "  min = col['timestamp'] %100\n",
        "  new_rate = random.random() + 15\n",
        "  #밥시간 11~15시 / 18시~21시\n",
        "  if (ts >= 1100 and ts <= 1500) or (ts >= 1800 and ts <= 2100):\n",
        "    new_rate += (ts/100)*(ts/100) /60\n",
        "\n",
        "  #여름이 다가올수록 적게\n",
        "  new_rate -= 5*math.tanh(day-15)\n",
        "  #7일씩 주기성\n",
        "  new_rate += math.cos(np.pi * 2 / 7 * day)  \n",
        "  reasonable_rate.append(new_rate)\n",
        "  dayTime = day * 10000 + ts\n",
        "  dtsList.append(dayTime)\n",
        "df_testClickRate['rate3'] = reasonable_rate\n",
        "print(df_testClickRate)"
      ],
      "execution_count": 202,
      "outputs": [
        {
          "output_type": "stream",
          "text": [
            "      day  timestamp      rate3\n",
            "0      32          0   9.993097\n",
            "1      32         10   9.587816\n",
            "2      32         20   9.249917\n",
            "3      32         30  10.055949\n",
            "4      32         40   9.600656\n",
            "...   ...        ...        ...\n",
            "4315   61       2310  10.565718\n",
            "4316   61       2320  10.659960\n",
            "4317   61       2330  10.713091\n",
            "4318   61       2340  10.236643\n",
            "4319   61       2350  10.203042\n",
            "\n",
            "[4320 rows x 3 columns]\n"
          ],
          "name": "stdout"
        }
      ]
    },
    {
      "cell_type": "code",
      "metadata": {
        "id": "DM0a2CkL_oVG",
        "colab_type": "code",
        "colab": {}
      },
      "source": [
        "#Train Data로 넣을 전날 같은 시간 데이터값 생성\n",
        "beforeRateList3 = []\n",
        "for i in range(_one_day):\n",
        "  beforeRateList3.append(0)\n",
        "\n",
        "for r in df_testClickRate['rate3']:\n",
        "  beforeRateList3.append(r)\n",
        "\n",
        "for i in range(_one_day):\n",
        "  beforeRateList3.pop()  \n",
        "\n",
        "df_testClickRate['beforeRate3'] = beforeRateList3\n"
      ],
      "execution_count": 0,
      "outputs": []
    },
    {
      "cell_type": "code",
      "metadata": {
        "id": "12k8-nTtIfcl",
        "colab_type": "code",
        "colab": {}
      },
      "source": [
        "#Train Data로 넣을 전날 같은 시간 데이터값 생성\n",
        "#befoeRateList 생성\n",
        "#이전날 같은 시간의 클릭률을 넣어줌\n",
        "#첫 날은 모두 0으로 설정\n",
        "beforeRateList = {}\n",
        "rates = ['rate','rate2']\n",
        "beforeRates = [ 'beforeRate','beforeRate2']\n",
        "for rate in (rates):\n",
        "  beforeRateList[rate] = []\n",
        "\n",
        "for rate in rates:\n",
        "  for i in range(_one_day):\n",
        "    beforeRateList[rate].append(0)\n",
        "\n",
        "for _,r in df_clickRate[rates].iterrows() :\n",
        "    for rate in rates:\n",
        "      beforeRateList[rate].append(r[rate])\n",
        "\n",
        "for rate in rates:\n",
        "  for i in range(_one_day):\n",
        "    beforeRateList[rate].pop()\n",
        "\n",
        "df_clickRate['beforeRate'] = beforeRateList['rate']\n",
        "df_clickRate['beforeRate2'] = beforeRateList['rate2']\n",
        "\n"
      ],
      "execution_count": 0,
      "outputs": []
    },
    {
      "cell_type": "code",
      "metadata": {
        "id": "LcQHeT0CfILm",
        "colab_type": "code",
        "colab": {}
      },
      "source": [
        "# 클릭률 데이터 저장\n",
        "#df_clickRate.to_csv('clickRate.csv')\n",
        "#files.download('clickRate.csv')"
      ],
      "execution_count": 0,
      "outputs": []
    },
    {
      "cell_type": "code",
      "metadata": {
        "id": "lgLYXC4r0wVL",
        "colab_type": "code",
        "colab": {}
      },
      "source": [
        "# from google.colab import files\n",
        "# files.upload()"
      ],
      "execution_count": 0,
      "outputs": []
    },
    {
      "cell_type": "code",
      "metadata": {
        "id": "S6A1vDhk01Ld",
        "colab_type": "code",
        "colab": {}
      },
      "source": [
        "#df_clickRate = pd.read_csv('clickRate.csv')"
      ],
      "execution_count": 0,
      "outputs": []
    },
    {
      "cell_type": "code",
      "metadata": {
        "id": "lwk1rC7PWfCn",
        "colab_type": "code",
        "colab": {}
      },
      "source": [
        "#광고 클릭률 변화 그래프 27일분을 통해 이후 3일분의 광고 클릭률 예측 진행\n",
        "#시계열 데이터이므로 RNN모델 중 LSTM모델 이용"
      ],
      "execution_count": 0,
      "outputs": []
    },
    {
      "cell_type": "code",
      "metadata": {
        "id": "F4n1IAOMRZVK",
        "colab_type": "code",
        "colab": {}
      },
      "source": [
        "X_train = df_clickRate[['beforeRate']]\n",
        "y_columns = df_clickRate['rate']\n",
        "\n",
        "X_trainLen = X_train.shape[0]\n",
        "\n",
        "X_columnNum = X_train.shape[1]\n",
        "\n",
        "# standardization을 위해 평균과 표준편차 구하기\n",
        "MEAN = X_train.mean()\n",
        "STD = X_train.std()\n",
        "\n",
        "# 표준편차가 0일 경우 대비하여 1e-07 추가\n",
        "X_train = (X_train - MEAN) / (STD + 1e-07)\n",
        "#print(X_train)"
      ],
      "execution_count": 0,
      "outputs": []
    },
    {
      "cell_type": "code",
      "metadata": {
        "id": "Nfadni3m3Utp",
        "colab_type": "code",
        "colab": {}
      },
      "source": [
        "# RNN 모델에 입력 할 수 있는 시계열 형태로 데이터 변환 함수생성\n",
        "from tqdm.notebook import tqdm\n",
        "\n",
        "def convert_to_timeseries(df, interval):\n",
        "    sequence_list = []\n",
        "    target_list = []\n",
        "    \n",
        "    for i in tqdm(range(df.shape[0] - interval)):\n",
        "        sequence_list.append(np.array(df.iloc[i:i+interval,:-1]))\n",
        "        target_list.append(df.iloc[i+interval,-1])\n",
        "    \n",
        "    sequence = np.array(sequence_list)\n",
        "    target = np.array(target_list)\n",
        "    \n",
        "    return sequence, target"
      ],
      "execution_count": 0,
      "outputs": []
    },
    {
      "cell_type": "code",
      "metadata": {
        "id": "6Ie5G5r33gAg",
        "colab_type": "code",
        "colab": {
          "base_uri": "https://localhost:8080/",
          "height": 87,
          "referenced_widgets": [
            "fbc05cdbb4b142dba9f3e5d1518434bd",
            "843214fd6d72455fad8bed415a0450ba",
            "82fb4bbcd07c40a38c4f4e00edfd67dc",
            "9cceca4d54a0463084de2b4ecebded7f",
            "ed2bde64945e42119e3a068e2b8323f0",
            "9448e7f225224eaf8bfa288201ec0e1f",
            "95e3bc94c88746ee83f058d3762ab569",
            "029e3bde5de44b019dd76787cce55a34"
          ]
        },
        "outputId": "334b9561-5bdc-46eb-b159-fda2181993e0"
      },
      "source": [
        "# t시점 이전 120분의 데이터로 t시점의 온도를 추정할 수 있는 학습데이터 형성\n",
        "_interval = 6;\n",
        "\n",
        "# t시점 이전 120분의 데이터로 t시점의 온도를 추정할 수 있는 학습데이터 형성\n",
        "sequence = np.empty((0,_interval, X_columnNum))\n",
        "target = np.empty((0,))\n",
        "        \n",
        "concat = pd.concat([X_train,df_clickRate['rate']], axis = 1)\n",
        "\n",
        "_sequence, _target = convert_to_timeseries(concat.head(_one_day*32), interval = _interval)\n",
        "\n",
        "\n",
        "sequence = np.vstack((sequence, _sequence))\n",
        "target = np.hstack((target, _target))\n",
        "print(target.shape)"
      ],
      "execution_count": 211,
      "outputs": [
        {
          "output_type": "display_data",
          "data": {
            "application/vnd.jupyter.widget-view+json": {
              "model_id": "fbc05cdbb4b142dba9f3e5d1518434bd",
              "version_minor": 0,
              "version_major": 2
            },
            "text/plain": [
              "HBox(children=(FloatProgress(value=0.0, max=4602.0), HTML(value='')))"
            ]
          },
          "metadata": {
            "tags": []
          }
        },
        {
          "output_type": "stream",
          "text": [
            "\n",
            "(4602,)\n"
          ],
          "name": "stdout"
        }
      ]
    },
    {
      "cell_type": "code",
      "metadata": {
        "id": "0FZ2gDv_Up1Q",
        "colab_type": "code",
        "colab": {}
      },
      "source": [
        "# lstm 모델 구축하기\n",
        "import tensorflow as tf\n",
        "\n",
        "lstm_model = tf.keras.models.Sequential([\n",
        "                                      \n",
        "  tf.keras.layers.LSTM(128, input_shape=sequence.shape[-2:]),\n",
        "\n",
        "  \n",
        "  tf.keras.layers.Dense(128,activation='relu'),\n",
        "  \n",
        "  tf.keras.layers.Dense(1)\n",
        "\n",
        "])\n",
        "\n",
        "adam = tf.keras.optimizers.Adam(learning_rate=0.001)\n",
        "lstm_model.compile(optimizer=adam, loss='mse')"
      ],
      "execution_count": 0,
      "outputs": []
    },
    {
      "cell_type": "code",
      "metadata": {
        "id": "4fca7tYHRZSV",
        "colab_type": "code",
        "colab": {}
      },
      "source": [
        "# loss가 어떤 값 미만으로 떨어지면 학습 종료 시키는 기능\n",
        "class myCallback(tf.keras.callbacks.Callback):\n",
        "    def on_epoch_end(self, epoch, logs = None):\n",
        "        if(logs.get('loss') < 1):\n",
        "            print('\\n Loss is under 3, cancelling training')\n",
        "            self.model.stop_training = True"
      ],
      "execution_count": 0,
      "outputs": []
    },
    {
      "cell_type": "code",
      "metadata": {
        "id": "eLD_LdAABitL",
        "colab_type": "code",
        "colab": {}
      },
      "source": [
        "callbacks = myCallback()"
      ],
      "execution_count": 0,
      "outputs": []
    },
    {
      "cell_type": "code",
      "metadata": {
        "id": "oG0yTCklUrY8",
        "colab_type": "code",
        "colab": {
          "base_uri": "https://localhost:8080/",
          "height": 111
        },
        "outputId": "a0cfdf94-c759-443a-c847-92a895ca8945"
      },
      "source": [
        "dataX = sequence\n",
        "dataY = target\n",
        "print(target.shape)\n",
        "data_dim = 1\n",
        "train_size = int(_one_day*30)\n",
        "test_size = len(dataY) - train_size\n",
        "trainX = np.array(dataX[0:train_size])\n",
        "testX = np.array(dataX[train_size:len(dataX)])\n",
        "trainY = np.array(dataY[0:train_size])\n",
        "testY = np.array(dataY[train_size-_interval:])\n",
        "print(train_size,dataY.shape)\n",
        "print(testY.shape)\n",
        "print(dataY)\n",
        "#X = tf.Variable(tf.zeros(shape = (None,seq_length,data_dim)),dtype=float32)\n",
        "#Y = tf.Variable(tf.zeros(shape=(None,1)),dtype=float32)"
      ],
      "execution_count": 215,
      "outputs": [
        {
          "output_type": "stream",
          "text": [
            "(4602,)\n",
            "4320 (4602,)\n",
            "(288,)\n",
            "[ 8.28849521  8.50162257  7.86268099 ... 12.19630204 12.13469831\n",
            " 12.23208563]\n"
          ],
          "name": "stdout"
        }
      ]
    },
    {
      "cell_type": "code",
      "metadata": {
        "id": "UVVzVEQIEoTi",
        "colab_type": "code",
        "colab": {
          "base_uri": "https://localhost:8080/",
          "height": 1000
        },
        "outputId": "4c66248c-ddcf-4564-f1c9-5569d6eaefcd"
      },
      "source": [
        "# 모델 학습\n",
        "lstm_model.fit(    \n",
        "    sequence, target,\n",
        "    epochs=100,\n",
        "    batch_size=64,\n",
        "    verbose=2,\n",
        "    shuffle=False,\n",
        "   callbacks = [callbacks]\n",
        ")"
      ],
      "execution_count": 216,
      "outputs": [
        {
          "output_type": "stream",
          "text": [
            "Epoch 1/100\n",
            "72/72 - 1s - loss: 61.7175\n",
            "Epoch 2/100\n",
            "72/72 - 1s - loss: 9.1579\n",
            "Epoch 3/100\n",
            "72/72 - 1s - loss: 5.7625\n",
            "Epoch 4/100\n",
            "72/72 - 1s - loss: 5.0294\n",
            "Epoch 5/100\n",
            "72/72 - 1s - loss: 4.2317\n",
            "Epoch 6/100\n",
            "72/72 - 1s - loss: 3.8166\n",
            "Epoch 7/100\n",
            "72/72 - 1s - loss: 3.5913\n",
            "Epoch 8/100\n",
            "72/72 - 1s - loss: 3.4106\n",
            "Epoch 9/100\n",
            "72/72 - 1s - loss: 3.2943\n",
            "Epoch 10/100\n",
            "72/72 - 1s - loss: 3.1868\n",
            "Epoch 11/100\n",
            "72/72 - 1s - loss: 3.0868\n",
            "Epoch 12/100\n",
            "72/72 - 1s - loss: 3.0187\n",
            "Epoch 13/100\n",
            "72/72 - 1s - loss: 2.9633\n",
            "Epoch 14/100\n",
            "72/72 - 1s - loss: 2.9092\n",
            "Epoch 15/100\n",
            "72/72 - 1s - loss: 2.8571\n",
            "Epoch 16/100\n",
            "72/72 - 1s - loss: 2.8119\n",
            "Epoch 17/100\n",
            "72/72 - 1s - loss: 2.7717\n",
            "Epoch 18/100\n",
            "72/72 - 1s - loss: 2.7350\n",
            "Epoch 19/100\n",
            "72/72 - 1s - loss: 2.7005\n",
            "Epoch 20/100\n",
            "72/72 - 1s - loss: 2.6706\n",
            "Epoch 21/100\n",
            "72/72 - 1s - loss: 2.6447\n",
            "Epoch 22/100\n",
            "72/72 - 1s - loss: 2.6213\n",
            "Epoch 23/100\n",
            "72/72 - 1s - loss: 2.5923\n",
            "Epoch 24/100\n",
            "72/72 - 1s - loss: 2.5686\n",
            "Epoch 25/100\n",
            "72/72 - 1s - loss: 2.5469\n",
            "Epoch 26/100\n",
            "72/72 - 1s - loss: 2.5277\n",
            "Epoch 27/100\n",
            "72/72 - 1s - loss: 2.4980\n",
            "Epoch 28/100\n",
            "72/72 - 1s - loss: 2.4695\n",
            "Epoch 29/100\n",
            "72/72 - 1s - loss: 2.4241\n",
            "Epoch 30/100\n",
            "72/72 - 1s - loss: 2.3825\n",
            "Epoch 31/100\n",
            "72/72 - 1s - loss: 2.3567\n",
            "Epoch 32/100\n",
            "72/72 - 1s - loss: 2.2808\n",
            "Epoch 33/100\n",
            "72/72 - 1s - loss: 2.2377\n",
            "Epoch 34/100\n",
            "72/72 - 1s - loss: 2.1856\n",
            "Epoch 35/100\n",
            "72/72 - 1s - loss: 2.1627\n",
            "Epoch 36/100\n",
            "72/72 - 1s - loss: 2.1256\n",
            "Epoch 37/100\n",
            "72/72 - 1s - loss: 2.1100\n",
            "Epoch 38/100\n",
            "72/72 - 1s - loss: 2.0817\n",
            "Epoch 39/100\n",
            "72/72 - 1s - loss: 2.0703\n",
            "Epoch 40/100\n",
            "72/72 - 1s - loss: 2.0548\n",
            "Epoch 41/100\n",
            "72/72 - 1s - loss: 2.0443\n",
            "Epoch 42/100\n",
            "72/72 - 1s - loss: 2.0319\n",
            "Epoch 43/100\n",
            "72/72 - 1s - loss: 2.0242\n",
            "Epoch 44/100\n",
            "72/72 - 1s - loss: 2.0207\n",
            "Epoch 45/100\n",
            "72/72 - 1s - loss: 2.0210\n",
            "Epoch 46/100\n",
            "72/72 - 1s - loss: 2.0032\n",
            "Epoch 47/100\n",
            "72/72 - 1s - loss: 1.9968\n",
            "Epoch 48/100\n",
            "72/72 - 1s - loss: 1.9926\n",
            "Epoch 49/100\n",
            "72/72 - 1s - loss: 1.9865\n",
            "Epoch 50/100\n",
            "72/72 - 1s - loss: 1.9792\n",
            "Epoch 51/100\n",
            "72/72 - 1s - loss: 1.9733\n",
            "Epoch 52/100\n",
            "72/72 - 1s - loss: 1.9722\n",
            "Epoch 53/100\n",
            "72/72 - 1s - loss: 1.9622\n",
            "Epoch 54/100\n",
            "72/72 - 1s - loss: 1.9576\n",
            "Epoch 55/100\n",
            "72/72 - 1s - loss: 1.9530\n",
            "Epoch 56/100\n",
            "72/72 - 1s - loss: 1.9494\n",
            "Epoch 57/100\n",
            "72/72 - 1s - loss: 1.9470\n",
            "Epoch 58/100\n",
            "72/72 - 1s - loss: 1.9458\n",
            "Epoch 59/100\n",
            "72/72 - 1s - loss: 1.9392\n",
            "Epoch 60/100\n",
            "72/72 - 1s - loss: 1.9349\n",
            "Epoch 61/100\n",
            "72/72 - 1s - loss: 1.9290\n",
            "Epoch 62/100\n",
            "72/72 - 1s - loss: 1.9264\n",
            "Epoch 63/100\n",
            "72/72 - 1s - loss: 1.9223\n",
            "Epoch 64/100\n",
            "72/72 - 1s - loss: 1.9191\n",
            "Epoch 65/100\n",
            "72/72 - 1s - loss: 1.9227\n",
            "Epoch 66/100\n",
            "72/72 - 1s - loss: 1.9130\n",
            "Epoch 67/100\n",
            "72/72 - 1s - loss: 1.9085\n",
            "Epoch 68/100\n",
            "72/72 - 1s - loss: 1.9064\n",
            "Epoch 69/100\n",
            "72/72 - 1s - loss: 1.9016\n",
            "Epoch 70/100\n",
            "72/72 - 1s - loss: 1.8968\n",
            "Epoch 71/100\n",
            "72/72 - 1s - loss: 1.8945\n",
            "Epoch 72/100\n",
            "72/72 - 1s - loss: 1.8921\n",
            "Epoch 73/100\n",
            "72/72 - 1s - loss: 1.8879\n",
            "Epoch 74/100\n",
            "72/72 - 1s - loss: 1.8861\n",
            "Epoch 75/100\n",
            "72/72 - 1s - loss: 1.8823\n",
            "Epoch 76/100\n",
            "72/72 - 1s - loss: 1.8831\n",
            "Epoch 77/100\n",
            "72/72 - 1s - loss: 1.8773\n",
            "Epoch 78/100\n",
            "72/72 - 1s - loss: 1.8775\n",
            "Epoch 79/100\n",
            "72/72 - 1s - loss: 1.8698\n",
            "Epoch 80/100\n",
            "72/72 - 1s - loss: 1.8686\n",
            "Epoch 81/100\n",
            "72/72 - 1s - loss: 1.8692\n",
            "Epoch 82/100\n",
            "72/72 - 1s - loss: 1.8643\n",
            "Epoch 83/100\n",
            "72/72 - 1s - loss: 1.8625\n",
            "Epoch 84/100\n",
            "72/72 - 1s - loss: 1.8617\n",
            "Epoch 85/100\n",
            "72/72 - 1s - loss: 1.8575\n",
            "Epoch 86/100\n",
            "72/72 - 1s - loss: 1.8548\n",
            "Epoch 87/100\n",
            "72/72 - 1s - loss: 1.8605\n",
            "Epoch 88/100\n",
            "72/72 - 1s - loss: 1.8519\n",
            "Epoch 89/100\n",
            "72/72 - 1s - loss: 1.8485\n",
            "Epoch 90/100\n",
            "72/72 - 1s - loss: 1.8694\n",
            "Epoch 91/100\n",
            "72/72 - 1s - loss: 1.8457\n",
            "Epoch 92/100\n",
            "72/72 - 1s - loss: 1.8463\n",
            "Epoch 93/100\n",
            "72/72 - 1s - loss: 1.8448\n",
            "Epoch 94/100\n",
            "72/72 - 1s - loss: 1.8417\n",
            "Epoch 95/100\n",
            "72/72 - 1s - loss: 1.8395\n",
            "Epoch 96/100\n",
            "72/72 - 1s - loss: 1.8367\n",
            "Epoch 97/100\n",
            "72/72 - 1s - loss: 1.8373\n",
            "Epoch 98/100\n",
            "72/72 - 1s - loss: 1.8451\n",
            "Epoch 99/100\n",
            "72/72 - 1s - loss: 1.8179\n",
            "Epoch 100/100\n",
            "72/72 - 1s - loss: 1.8344\n"
          ],
          "name": "stdout"
        },
        {
          "output_type": "execute_result",
          "data": {
            "text/plain": [
              "<tensorflow.python.keras.callbacks.History at 0x7f5a64ad3630>"
            ]
          },
          "metadata": {
            "tags": []
          },
          "execution_count": 216
        }
      ]
    },
    {
      "cell_type": "code",
      "metadata": {
        "id": "lqj1CfNgEr06",
        "colab_type": "code",
        "colab": {}
      },
      "source": [
        "#MAD(절대 평균 오차) 생성함수\n",
        "def cal_res(pred,test):\n",
        "  res = 0.\n",
        "  for i in range(len(pred)):\n",
        "     res += abs((pred[i]-test[i]))\n",
        "  return res / len(pred)"
      ],
      "execution_count": 0,
      "outputs": []
    },
    {
      "cell_type": "code",
      "metadata": {
        "id": "lo2VWy8GEtid",
        "colab_type": "code",
        "colab": {
          "base_uri": "https://localhost:8080/",
          "height": 68,
          "referenced_widgets": [
            "25050772384f4bae8449f84d70c4be11",
            "2f4b232f0b984e698791f1e56844e184",
            "cb51b4fba98b4341b5359e75aa46c1ef",
            "7bc77da6d63e4f49b4b9bc56078c27f8",
            "f2ad264b88d14fff94d58153782c487d",
            "35e2b0a8df1e463c836cdb9652fcab45",
            "e28d1d40e82e4e779c0f3749c99ab0dd",
            "9b5c16f4674c4f199412222817c79789"
          ]
        },
        "outputId": "ab0de765-c433-4af8-fbde-194450977987"
      },
      "source": [
        "testX, _ = convert_to_timeseries(pd.concat([X_train.tail(_one_day*2+_interval),df_clickRate['rate'].tail(_one_day*2+_interval)],axis=1), interval = _interval)\n",
        "\n",
        "y_pred = pd.DataFrame(lstm_model.predict(testX))"
      ],
      "execution_count": 218,
      "outputs": [
        {
          "output_type": "display_data",
          "data": {
            "application/vnd.jupyter.widget-view+json": {
              "model_id": "25050772384f4bae8449f84d70c4be11",
              "version_minor": 0,
              "version_major": 2
            },
            "text/plain": [
              "HBox(children=(FloatProgress(value=0.0, max=288.0), HTML(value='')))"
            ]
          },
          "metadata": {
            "tags": []
          }
        },
        {
          "output_type": "stream",
          "text": [
            "\n"
          ],
          "name": "stdout"
        }
      ]
    },
    {
      "cell_type": "code",
      "metadata": {
        "id": "PrvaPxQRLgQi",
        "colab_type": "code",
        "colab": {
          "base_uri": "https://localhost:8080/",
          "height": 371
        },
        "outputId": "fe7054a9-d7ac-4d1c-9cce-97e56522a195"
      },
      "source": [
        "testY = np.array(testY)\n",
        "y_pred = np.array(y_pred)\n",
        "\n",
        "print('MAD(Mean Absolute Diviation)'+str(cal_res(y_pred,testY)))\n",
        "plt.figure(figsize=(9,5))\n",
        "plt.plot(y_pred)\n",
        "plt.plot(testY)\n",
        "plt.legend(['pred','test'])\n",
        "plt.xlabel('time',color = 'white')\n",
        "plt.ylabel('prob',color = 'white')\n",
        "\n"
      ],
      "execution_count": 219,
      "outputs": [
        {
          "output_type": "stream",
          "text": [
            "MAD(Mean Absolute Diviation)[0.6367559]\n"
          ],
          "name": "stdout"
        },
        {
          "output_type": "execute_result",
          "data": {
            "text/plain": [
              "Text(0, 0.5, 'prob')"
            ]
          },
          "metadata": {
            "tags": []
          },
          "execution_count": 219
        },
        {
          "output_type": "display_data",
          "data": {
            "image/png": "[encoded data removed]",
            "text/plain": [
              "<Figure size 648x360 with 1 Axes>"
            ]
          },
          "metadata": {
            "tags": [],
            "needs_background": "light"
          }
        }
      ]
    },
    {
      "cell_type": "code",
      "metadata": {
        "id": "k4ETzaZQJFAI",
        "colab_type": "code",
        "outputId": "64902103-88dc-480c-a92a-7b4f58556207",
        "colab": {
          "base_uri": "https://localhost:8080/",
          "height": 36
        }
      },
      "source": [
        "\"\"\"\n",
        "from keras import backend as K\n",
        "\n",
        "#손실함수 4제곱으로 직접 정의\n",
        "def msse(y_pred, y_true):\n",
        "    loss = K.mean((y_true-y_pred)**4)\n",
        " \n",
        "    return loss\n",
        "\"\"\""
      ],
      "execution_count": 220,
      "outputs": [
        {
          "output_type": "execute_result",
          "data": {
            "text/plain": [
              "'\\nfrom keras import backend as K\\n\\n#손실함수 4제곱으로 직접 정의\\ndef msse(y_pred, y_true):\\n    loss = K.mean((y_true-y_pred)**4)\\n \\n    return loss\\n'"
            ]
          },
          "metadata": {
            "tags": []
          },
          "execution_count": 220
        }
      ]
    },
    {
      "cell_type": "code",
      "metadata": {
        "id": "DQWwrS0YDf1S",
        "colab_type": "code",
        "colab": {
          "base_uri": "https://localhost:8080/",
          "height": 56
        },
        "outputId": "fe057774-6fc7-4579-ea9e-5d83d4ed4e4e"
      },
      "source": [
        "\"\"\"\n",
        "model = Sequential()\n",
        "model.add(Dense(64, input_dim=3 , activation='relu'))\n",
        "model.add(Dense(32, activation='softmax'))\n",
        "model.add(Dense(1,activation='relu'))\n",
        "model.compile(loss='mse' , optimizer = adam)\n",
        "\n",
        "history = model.fit(X_train,y_train, epochs = 100, batch_size=64)\n",
        "\"\"\""
      ],
      "execution_count": 221,
      "outputs": [
        {
          "output_type": "execute_result",
          "data": {
            "text/plain": [
              "\"\\nmodel = Sequential()\\nmodel.add(Dense(64, input_dim=3 , activation='relu'))\\nmodel.add(Dense(32, activation='softmax'))\\nmodel.add(Dense(1,activation='relu'))\\nmodel.compile(loss='mse' , optimizer = adam)\\n\\nhistory = model.fit(X_train,y_train, epochs = 100, batch_size=64)\\n\""
            ]
          },
          "metadata": {
            "tags": []
          },
          "execution_count": 221
        }
      ]
    },
    {
      "cell_type": "code",
      "metadata": {
        "id": "3NilSn2Y-i-I",
        "colab_type": "code",
        "colab": {
          "base_uri": "https://localhost:8080/",
          "height": 56
        },
        "outputId": "e11e0357-c74c-4a51-d3eb-e778dffce077"
      },
      "source": [
        "\"\"\"\n",
        "y_pred = pd.DataFrame(model.predict(X_train))\n",
        "plt.figure(figsize=(15,10))\n",
        "plt.plot(np.array(y_train))\n",
        "plt.plot(y_pred)\n",
        "plt.legend(['test','pred'])\n",
        "print(testY)\n",
        "print(y_pred)\n",
        "\"\"\""
      ],
      "execution_count": 222,
      "outputs": [
        {
          "output_type": "execute_result",
          "data": {
            "text/plain": [
              "\"\\ny_pred = pd.DataFrame(model.predict(X_train))\\nplt.figure(figsize=(15,10))\\nplt.plot(np.array(y_train))\\nplt.plot(y_pred)\\nplt.legend(['test','pred'])\\nprint(testY)\\nprint(y_pred)\\n\""
            ]
          },
          "metadata": {
            "tags": []
          },
          "execution_count": 222
        }
      ]
    },
    {
      "cell_type": "code",
      "metadata": {
        "id": "wgWqIPIO9Y3A",
        "colab_type": "code",
        "colab": {}
      },
      "source": [
        "#문제2번 새로운 광고 2일 데이터로 나머지 데이터 예측\n",
        "#Transfer Learning 이용하여 fine Tuning 진행"
      ],
      "execution_count": 0,
      "outputs": []
    },
    {
      "cell_type": "code",
      "metadata": {
        "id": "x7phNLrzGYUM",
        "colab_type": "code",
        "colab": {
          "base_uri": "https://localhost:8080/",
          "height": 604
        },
        "outputId": "1a8fdbd0-d106-4560-e772-b13365718480"
      },
      "source": [
        "import seaborn as sns    \n",
        "\n",
        "#2번문제\n",
        "#광고별 2일간 연관도 분석\n",
        "#새로 들어온 3번 광고의 2일치 데이터와\n",
        "#1번 광고의 해당날짜 예측 데이터의 상관관계를 비교\n",
        "tmp = {}\n",
        "tmp['rate'] = np.array(df_clickRate['rate'].tail(_one_day*2))\n",
        "tmp['rate2'] = np.array(df_clickRate['rate2'].tail(_one_day*2))\n",
        "tmp['rate3'] =  df_testClickRate['rate3'].head(_one_day*2)\n",
        "print(pd.DataFrame(tmp).reset_index())\n",
        "corr = pd.DataFrame(tmp).corr()\n",
        "\n",
        "plt.figure(figsize=(5,5))\n",
        "sns.heatmap(data = corr, annot=True, fmt = '.2f', linewidths=.5, cmap='Blues')"
      ],
      "execution_count": 224,
      "outputs": [
        {
          "output_type": "stream",
          "text": [
            "     index       rate      rate2      rate3\n",
            "0        0   9.085893  55.309347   9.993097\n",
            "1        1   9.008590  55.320539   9.587816\n",
            "2        2   8.268069  55.000292   9.249917\n",
            "3        3   8.821298  55.725092  10.055949\n",
            "4        4   8.152215  56.029258   9.600656\n",
            "..     ...        ...        ...        ...\n",
            "283    283  12.904948  70.665742  10.304975\n",
            "284    284  12.437387  70.130167  10.103027\n",
            "285    285  12.196302  70.194932  10.666925\n",
            "286    286  12.134698  69.528104  10.215167\n",
            "287    287  12.232086  70.119909  10.377377\n",
            "\n",
            "[288 rows x 4 columns]\n"
          ],
          "name": "stdout"
        },
        {
          "output_type": "execute_result",
          "data": {
            "text/plain": [
              "<matplotlib.axes._subplots.AxesSubplot at 0x7f5a6a7ba438>"
            ]
          },
          "metadata": {
            "tags": []
          },
          "execution_count": 224
        },
        {
          "output_type": "display_data",
          "data": {
            "image/png": "[encoded data removed]",
            "text/plain": [
              "<Figure size 360x360 with 2 Axes>"
            ]
          },
          "metadata": {
            "tags": [],
            "needs_background": "light"
          }
        }
      ]
    },
    {
      "cell_type": "code",
      "metadata": {
        "id": "iVZ-VvzUTQw3",
        "colab_type": "code",
        "colab": {}
      },
      "source": [
        "X_test = df_testClickRate['beforeRate3'].head(_one_day*3).tail(_one_day)\n",
        "testY = df_testClickRate['beforeRate3'].head(_one_day*2).tail(_one_day)\n",
        "X_train = df_testClickRate['beforeRate3'].head(_one_day*2)\n",
        "# train set에서 도출된 평균과 표준편차로 standardization 실시 \n",
        "#X_test = (X_test - MEAN) / (STD + 1e-07)\n",
        "# convert_to_timeseries 함수를 쓰기 위한 dummy feature 생성\n",
        "\n",
        "# train과 test 기간을 합쳐서 120분 간격으로 학습데이터 재구축\n",
        "X_train.append(X_test)\n",
        "tmp = {}\n",
        "tmp['beforeRate3'] = X_train\n",
        "tmp = pd.DataFrame(tmp)\n",
        "print(tmp)\n",
        "tmp['dummy'] = 0\n",
        "X_test, _ = convert_to_timeseries(tmp, interval=_interval)\n",
        "print(X_test)\n",
        "\n",
        "X_test = X_test[-_one_day:,:,:]\n",
        "\n"
      ],
      "execution_count": 0,
      "outputs": []
    },
    {
      "cell_type": "code",
      "metadata": {
        "id": "fkeTT4Sf7sNN",
        "colab_type": "code",
        "colab": {
          "base_uri": "https://localhost:8080/",
          "height": 68,
          "referenced_widgets": [
            "57b6a539c49b4519ad5fbc97336d5f61",
            "db435144f2a448a09da1d8c2cbfbd6e0",
            "0a05739eea254f73bc5e54e17e4e8e27",
            "1b8c0bba325540cb9b2823db229d4c4e",
            "94594915864f407c918a657bbe99ac09",
            "05f9ea5dc04945b99e872a82143b485c",
            "7659334c3c8d4c05babb7423e1066b4f",
            "7ba19a6da573429ba2189109f9247ec6"
          ]
        },
        "outputId": "c21a83aa-3588-400e-e98f-684ea1eda272"
      },
      "source": [
        "# LSTM 레이어는 고정\n",
        "lstm_model.layers[0].trainable = False\n",
        "# fine tuning 할 때 사용할 학습데이터 생성 (Y18)\n",
        "finetune_X, finetune_y = convert_to_timeseries(pd.concat([df_testClickRate['beforeRate3'].head(_one_day*2), df_testClickRate['rate3'].head(_one_day*2)], axis = 1), interval=_interval)\n",
        "\n",
        "# LSTM 레이어는 고정 시켜두고, DNN 레이어에 대해서 fine tuning 진행 (Transfer Learning)\n",
        "finetune_history = lstm_model.fit(\n",
        "            finetune_X, finetune_y,\n",
        "            epochs=100,\n",
        "            batch_size=64,\n",
        "            shuffle=False,\n",
        "            verbose = 0)\n"
      ],
      "execution_count": 226,
      "outputs": [
        {
          "output_type": "display_data",
          "data": {
            "application/vnd.jupyter.widget-view+json": {
              "model_id": "57b6a539c49b4519ad5fbc97336d5f61",
              "version_minor": 0,
              "version_major": 2
            },
            "text/plain": [
              "HBox(children=(FloatProgress(value=0.0, max=282.0), HTML(value='')))"
            ]
          },
          "metadata": {
            "tags": []
          }
        },
        {
          "output_type": "stream",
          "text": [
            "\n"
          ],
          "name": "stdout"
        }
      ]
    },
    {
      "cell_type": "code",
      "metadata": {
        "id": "Eo1ievPt9TdN",
        "colab_type": "code",
        "colab": {
          "base_uri": "https://localhost:8080/",
          "height": 353
        },
        "outputId": "48e0f9a4-97e7-4355-a7a2-b230da0736fd"
      },
      "source": [
        "# 예측하기\n",
        "\n",
        "finetune_pred = lstm_model.predict(X_test)\n",
        "testY = np.array(testY)\n",
        "finetune_pred = np.array(finetune_pred)\n",
        "\n",
        "plt.figure(figsize=(9,5))\n",
        "plt.plot(finetune_pred)\n",
        "plt.plot(testY)\n",
        "plt.xlabel('time',color = 'white')\n",
        "plt.ylabel('prob',color = 'white')\n",
        "plt.legend(['pred','test'])\n",
        "\n",
        "#절대 평균 오차(MAD)\n",
        "print('MAD(Mean Absolute Deviation) :' + str(cal_res(finetune_pred,testY)))"
      ],
      "execution_count": 227,
      "outputs": [
        {
          "output_type": "stream",
          "text": [
            "MAD(Mean Absolute Deviation) :[0.8635099]\n"
          ],
          "name": "stdout"
        },
        {
          "output_type": "display_data",
          "data": {
            "image/png": "[encoded data removed]",
            "text/plain": [
              "<Figure size 648x360 with 1 Axes>"
            ]
          },
          "metadata": {
            "tags": [],
            "needs_background": "light"
          }
        }
      ]
    }
  ]
}